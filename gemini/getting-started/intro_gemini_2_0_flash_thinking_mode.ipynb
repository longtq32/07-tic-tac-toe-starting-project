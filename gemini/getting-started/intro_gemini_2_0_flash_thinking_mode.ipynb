{
  "cells": [
    {
      "cell_type": "code",
      "execution_count": 1,
      "metadata": {
        "id": "sqi5B7V_Rjim"
      },
      "outputs": [],
      "source": [
        "# Copyright 2024 Google LLC\n",
        "#\n",
        "# Licensed under the Apache License, Version 2.0 (the \"License\");\n",
        "# you may not use this file except in compliance with the License.\n",
        "# You may obtain a copy of the License at\n",
        "#\n",
        "#     https://www.apache.org/licenses/LICENSE-2.0\n",
        "#\n",
        "# Unless required by applicable law or agreed to in writing, software\n",
        "# distributed under the License is distributed on an \"AS IS\" BASIS,\n",
        "# WITHOUT WARRANTIES OR CONDITIONS OF ANY KIND, either express or implied.\n",
        "# See the License for the specific language governing permissions and\n",
        "# limitations under the License."
      ]
    },
    {
      "cell_type": "markdown",
      "metadata": {
        "id": "VyPmicX9RlZX"
      },
      "source": [
        "# Getting Started with Gemini 2.0 Flash Thinking Model\n",
        "\n",
        "<table align=\"left\">\n",
        "  <td style=\"text-align: center\">\n",
        "    <a href=\"https://colab.research.google.com/github/GoogleCloudPlatform/generative-ai/blob/main/gemini/getting-started/intro_gemini_2_0_flash_thinking_mode.ipynb\">\n",
        "      <img width=\"32px\" src=\"https://www.gstatic.com/pantheon/images/bigquery/welcome_page/colab-logo.svg\" alt=\"Google Colaboratory logo\"><br> Open in Colab\n",
        "    </a>\n",
        "  </td>\n",
        "  <td style=\"text-align: center\">\n",
        "    <a href=\"https://console.cloud.google.com/vertex-ai/colab/import/https:%2F%2Fraw.githubusercontent.com%2FGoogleCloudPlatform%2Fgenerative-ai%2Fmain%2Fgemini%2Fgetting-started%2Fintro_gemini_2_0_flash_thinking_mode.ipynb\">\n",
        "      <img width=\"32px\" src=\"https://lh3.googleusercontent.com/JmcxdQi-qOpctIvWKgPtrzZdJJK-J3sWE1RsfjZNwshCFgE_9fULcNpuXYTilIR2hjwN\" alt=\"Google Cloud Colab Enterprise logo\"><br> Open in Colab Enterprise\n",
        "    </a>\n",
        "  </td>\n",
        "  <td style=\"text-align: center\">\n",
        "    <a href=\"https://console.cloud.google.com/vertex-ai/workbench/deploy-notebook?download_url=https://raw.githubusercontent.com/GoogleCloudPlatform/generative-ai/main/gemini/getting-started/intro_gemini_2_0_flash_thinking_mode.ipynb\">\n",
        "      <img src=\"https://www.gstatic.com/images/branding/gcpiconscolors/vertexai/v1/32px.svg\" alt=\"Vertex AI logo\"><br> Open in Vertex AI Workbench\n",
        "    </a>\n",
        "  </td>\n",
        "  <td style=\"text-align: center\">\n",
        "    <a href=\"https://github.com/GoogleCloudPlatform/generative-ai/blob/main/gemini/getting-started/intro_gemini_2_0_flash_thinking_mode.ipynb\">\n",
        "      <img width=\"32px\" src=\"https://www.svgrepo.com/download/217753/github.svg\" alt=\"GitHub logo\"><br> View on GitHub\n",
        "    </a>\n",
        "  </td>\n",
        "  <td style=\"text-align: center\">\n",
        "    <a href=\"https://goo.gle/42q3ZwP\">\n",
        "      <img width=\"32px\" src=\"https://cdn.qwiklabs.com/assets/gcp_cloud-e3a77215f0b8bfa9b3f611c0d2208c7e8708ed31.svg\" alt=\"Google Cloud logo\"><br> Open in Cloud Skills Boost\n",
        "    </a>\n",
        "  </td>\n",
        "</table>\n",
        "\n",
        "<div style=\"clear: both;\"></div>\n",
        "\n",
        "<b>Share to:</b>\n",
        "\n",
        "<a href=\"https://www.linkedin.com/sharing/share-offsite/?url=https%3A//github.com/GoogleCloudPlatform/generative-ai/blob/main/gemini/getting-started/intro_gemini_2_0_flash_thinking_mode.ipynb\" target=\"_blank\">\n",
        "  <img width=\"20px\" src=\"https://upload.wikimedia.org/wikipedia/commons/8/81/LinkedIn_icon.svg\" alt=\"LinkedIn logo\">\n",
        "</a>\n",
        "\n",
        "<a href=\"https://bsky.app/intent/compose?text=https%3A//github.com/GoogleCloudPlatform/generative-ai/blob/main/gemini/getting-started/intro_gemini_2_0_flash_thinking_mode.ipynb\" target=\"_blank\">\n",
        "  <img width=\"20px\" src=\"https://upload.wikimedia.org/wikipedia/commons/7/7a/Bluesky_Logo.svg\" alt=\"Bluesky logo\">\n",
        "</a>\n",
        "\n",
        "<a href=\"https://twitter.com/intent/tweet?url=https%3A//github.com/GoogleCloudPlatform/generative-ai/blob/main/gemini/getting-started/intro_gemini_2_0_flash_thinking_mode.ipynb\" target=\"_blank\">\n",
        "  <img width=\"20px\" src=\"https://upload.wikimedia.org/wikipedia/commons/5/5a/X_icon_2.svg\" alt=\"X logo\">\n",
        "</a>\n",
        "\n",
        "<a href=\"https://reddit.com/submit?url=https%3A//github.com/GoogleCloudPlatform/generative-ai/blob/main/gemini/getting-started/intro_gemini_2_0_flash_thinking_mode.ipynb\" target=\"_blank\">\n",
        "  <img width=\"20px\" src=\"https://redditinc.com/hubfs/Reddit%20Inc/Brand/Reddit_Logo.png\" alt=\"Reddit logo\">\n",
        "</a>\n",
        "\n",
        "<a href=\"https://www.facebook.com/sharer/sharer.php?u=https%3A//github.com/GoogleCloudPlatform/generative-ai/blob/main/gemini/getting-started/intro_gemini_2_0_flash_thinking_mode.ipynb\" target=\"_blank\">\n",
        "  <img width=\"20px\" src=\"https://upload.wikimedia.org/wikipedia/commons/5/51/Facebook_f_logo_%282019%29.svg\" alt=\"Facebook logo\">\n",
        "</a>"
      ]
    },
    {
      "cell_type": "markdown",
      "metadata": {
        "id": "8MqT58L6Rm_q"
      },
      "source": [
        "| | |\n",
        "|-|-|\n",
        "| Author(s) |  [Guillaume Vernade](https://github.com/giom-v), [Eric Dong](https://github.com/gericdong) |"
      ]
    },
    {
      "cell_type": "markdown",
      "metadata": {
        "id": "3w14yjWnPVD-"
      },
      "source": [
        "## Overview\n",
        "\n",
        "[Gemini 2.0 Flash Thinking](https://cloud.google.com/vertex-ai/generative-ai/docs/thinking-mode) is an experimental model that's trained to generate the \"thinking process\" the model goes through as part of its response. As a result, the Flash Thinking model is capable of stronger reasoning capabilities in its responses than the Gemini 2.0 Flash model.\n",
        "\n",
        "This tutorial demonstrates how to access the Gemini 2.0 Flash Thinking model and use the model to solve the following complex tasks that require multiple rounds of strategizing and iteratively solving.\n",
        "\n",
        "- Example 1: Code simplification\n",
        "- Example 2: Geometry problem (with image)\n",
        "- Example 3: Mathematical brain teaser\n",
        "- Example 4: Generating question for a specific level of knowledge\n",
        "- Example 5: Statistics\n",
        "- Example 6: Brain teaser with a twist\n"
      ]
    },
    {
      "cell_type": "markdown",
      "metadata": {
        "id": "gPiTOAHURvTM"
      },
      "source": [
        "## Getting Started"
      ]
    },
    {
      "cell_type": "markdown",
      "metadata": {
        "id": "CHRZUpfWSEpp"
      },
      "source": [
        "### Install Google Gen AI SDK for Python\n"
      ]
    },
    {
      "cell_type": "code",
      "execution_count": 2,
      "metadata": {
        "id": "sG3_LKsWSD3A"
      },
      "outputs": [],
      "source": [
        "%pip install --upgrade --quiet google-genai"
      ]
    },
    {
      "cell_type": "markdown",
      "metadata": {
        "id": "HlMVjiAWSMNX"
      },
      "source": [
        "### Authenticate your notebook environment (Colab only)\n",
        "\n",
        "If you are running this notebook on Google Colab, run the cell below to authenticate your environment."
      ]
    },
    {
      "cell_type": "code",
      "execution_count": 11,
      "metadata": {
        "id": "12fnq4V0SNV3"
      },
      "outputs": [],
      "source": [
        "import sys\n",
        "\n",
        "if \"google.colab\" in sys.modules:\n",
        "    from google.colab import auth\n",
        "\n",
        "    auth.authenticate_user()"
      ]
    },
    {
      "cell_type": "markdown",
      "metadata": {
        "id": "0Ef0zVX-X9Bg"
      },
      "source": [
        "### Import libraries\n"
      ]
    },
    {
      "cell_type": "code",
      "execution_count": 12,
      "metadata": {
        "id": "xBCH3hnAX9Bh"
      },
      "outputs": [],
      "source": [
        "from IPython.display import Image, Markdown, display\n",
        "from google import genai\n",
        "from google.genai.types import Part"
      ]
    },
    {
      "cell_type": "markdown",
      "metadata": {
        "id": "LymmEN6GSTn-"
      },
      "source": [
        "### Set Google Cloud project information and create client\n",
        "\n",
        "To get started using Vertex AI, you must have an existing Google Cloud project and [enable the Vertex AI API](https://console.cloud.google.com/flows/enableapi?apiid=aiplatform.googleapis.com).\n",
        "\n",
        "Learn more about [setting up a project and a development environment](https://cloud.google.com/vertex-ai/docs/start/cloud-environment)."
      ]
    },
    {
      "cell_type": "code",
      "execution_count": 6,
      "metadata": {
        "id": "Nqwi-5ufWp_B"
      },
      "outputs": [],
      "source": [
        "import os\n",
        "\n",
        "PROJECT_ID = \"teppy-455901\"  # @param {type: \"string\", placeholder: \"[your-project-id]\", isTemplate: true}\n",
        "if not PROJECT_ID or PROJECT_ID == \"[your-project-id]\":\n",
        "    PROJECT_ID = str(os.environ.get(\"GOOGLE_CLOUD_PROJECT\"))\n",
        "\n",
        "LOCATION = os.environ.get(\"GOOGLE_CLOUD_REGION\", \"us-central1\")\n",
        "\n",
        "client = genai.Client(vertexai=True, project=PROJECT_ID, location=LOCATION)"
      ]
    },
    {
      "cell_type": "markdown",
      "metadata": {
        "id": "w0u6hYSleE0H"
      },
      "source": [
        "## Use Gemini 2.0 Flash Thinking Model\n"
      ]
    },
    {
      "cell_type": "markdown",
      "metadata": {
        "id": "5M7EKckIYVFy"
      },
      "source": [
        "### Set model ID\n",
        "\n",
        "See the [Google models](https://cloud.google.com/vertex-ai/generative-ai/docs/learn/models) page for more information."
      ]
    },
    {
      "cell_type": "code",
      "execution_count": 17,
      "metadata": {
        "id": "-coEslfWPrxo"
      },
      "outputs": [],
      "source": [
        "MODEL_ID = \"gemini-2.0-flash-thinking-exp-01-21\"  # @param {type: \"string\"}"
      ]
    },
    {
      "cell_type": "markdown",
      "metadata": {
        "id": "c5fc462efc55"
      },
      "source": [
        "### Generate content with thoughts\n",
        "\n",
        "Then use the `generate_content` method to send a request to generate content with thoughts. The model responds with multiple parts, the thoughts and the model response. You can check the `part.thought` field to determine if a part is a thought or not."
      ]
    },
    {
      "cell_type": "code",
      "execution_count": 21,
      "metadata": {
        "id": "c55bf1df11ea",
        "outputId": "555462e1-c247-48b5-93f1-ceda9bf63a8a",
        "colab": {
          "base_uri": "https://localhost:8080/",
          "height": 145
        }
      },
      "outputs": [
        {
          "output_type": "display_data",
          "data": {
            "text/plain": [
              "<IPython.core.display.Markdown object>"
            ],
            "text/markdown": "The next number in the sequence is **32**.\n\nThis sequence is a geometric sequence where each number is multiplied by 2 to get the next number.\n\n* 2 * 2 = 4\n* 4 * 2 = 8\n* 8 * 2 = 16\n* 16 * 2 = 32"
          },
          "metadata": {}
        }
      ],
      "source": [
        "response = client.models.generate_content(\n",
        "    model=MODEL_ID,\n",
        "    contents=\"What is the next number in this sequence: 2, 4, 8, 16, __?\",\n",
        ")\n",
        "display(Markdown(response.text))"
      ]
    },
    {
      "cell_type": "markdown",
      "metadata": {
        "id": "0c9a466d65d0"
      },
      "source": [
        "### Generate content stream with thoughts\n",
        "\n",
        "You can also use the `generate_content_stream` method to stream the response and thoughts as they are being generated, and the model will return chunks of the response as soon as they are generated."
      ]
    },
    {
      "cell_type": "code",
      "execution_count": 28,
      "metadata": {
        "id": "425f08594870",
        "outputId": "025f1bee-fd37-4fd0-dd1d-70a35cf5d2ff",
        "colab": {
          "base_uri": "https://localhost:8080/"
        }
      },
      "outputs": [
        {
          "output_type": "stream",
          "name": "stdout",
          "text": [
            "Yes, the Monty Hall Problem **fundamentally changes** if all the doors are made of transparent glass.  Here's why:\n",
            "\n",
            "**The Core of the Monty Hall Problem Relies on Hidden Information**\n",
            "\n",
            "The Monty Hall Problem is counterintuitive because it relies on the fact that you have incomplete information.  You initially choose a door with a 1/3 probability of having the car because you *don't know* what's behind any of the doors. Monty's action of opening a door and revealing a goat provides you with **new information** that changes the probabilities.\n",
            "\n",
            "**With Transparent Doors, There is No Hidden Information**\n",
            "\n",
            "If the doors are transparent glass, you can **see** what's behind every door from the very beginning.  This completely eliminates the element of uncertainty and hidden information that drives the Monty Hall paradox.\n",
            "\n",
            "**How the Scenario Changes:**\n",
            "\n",
            "1. **Before you choose:** You can see which door has the car and which doors have goats.\n",
            "\n",
            "2. **Your initial choice:** You will obviously choose the door you can see has the car.  There's no guessing involved, and no probability to calculate in the traditional Monty Hall sense.\n",
            "\n",
            "3. **Monty's action becomes irrelevant:** Monty can still follow his rules:\n",
            "    * He knows where the car is (he can see through the glass too).\n",
            "    * He will open a door with a goat (which you already know exists behind certain doors).\n",
            "    * He will open a door you didn't pick (though this is less meaningful now).\n",
            "\n",
            "   However, Monty opening a door to reveal a goat provides you with absolutely **no new information**. You already saw the goat behind that door (and behind the other goat door) before you even made your initial choice.\n",
            "\n",
            "**Why Switching is No Longer Advantageous (or even Relevant):**\n",
            "\n",
            "* **No Probability Shift:** In the classic Monty Hall problem, switching doors doubles your chances of winning because Monty's action concentrates the probability of the car being behind the unchosen, unopened door.  This probability shift happens because his action *reveals new information*.\n",
            "\n",
            "* **Perfect Information:** With transparent doors, you have perfect information from the start.  You know exactly where the car is. There's no probability to shift because there's no uncertainty to begin with.\n",
            "\n",
            "* **Optimal Strategy:**  The optimal strategy with transparent doors is simply to **choose the door you can see has the car from the very beginning.**  Switching doors after Monty opens one would be irrational, as you already possess complete knowledge of the car's location.\n",
            "\n",
            "**In Summary:**\n",
            "\n",
            "Making the doors transparent glass completely trivializes the Monty Hall Problem. It removes the element of hidden information that makes the problem interesting and counterintuitive.  The problem transforms from a probability puzzle to a simple exercise in observation.  The advantage of switching disappears because you already have all the information necessary to make the correct choice from the outset."
          ]
        }
      ],
      "source": [
        "responses = client.models.generate_content_stream(\n",
        "    model=MODEL_ID,\n",
        "    contents=\"Does the Monty Hall Problem change if all the doors are made of transparent glass?\",\n",
        ")\n",
        "\n",
        "for response in responses:\n",
        "    print(response.text, end=\"\")"
      ]
    },
    {
      "cell_type": "markdown",
      "metadata": {
        "id": "IrRBg9UGC9nn"
      },
      "source": [
        "## Thinking Model examples\n",
        "\n",
        "The following examples are some complex tasks that require multiple rounds of strategizing and iteratively solving.\n",
        "\n",
        "### **Example 1**: Code simplification\n",
        "\n",
        "First, try with a simple code comprehension and simplification example."
      ]
    },
    {
      "cell_type": "code",
      "execution_count": 29,
      "metadata": {
        "id": "dLhhffx2C9nn",
        "outputId": "3fa17f33-3904-4025-b1a6-896a661a1754",
        "colab": {
          "base_uri": "https://localhost:8080/",
          "height": 1000
        }
      },
      "outputs": [
        {
          "output_type": "display_data",
          "data": {
            "text/plain": [
              "<IPython.core.display.Markdown object>"
            ],
            "text/markdown": "Let's break down the original expression and see how we can simplify it while maintaining its functionality (as much as possible, or improving it).\n\n**Understanding the Original Expression**\n\n`(Math.round(radius/pixelsPerMile * 10) / 10).toFixed(1);`\n\n1. **`radius / pixelsPerMile`**: This likely calculates the distance in \"miles\" (or some unit represented by \"miles\") based on a `radius` value and a conversion factor `pixelsPerMile`.  Assuming `radius` is in pixels and `pixelsPerMile` is the number of pixels per mile, this division gives you the radius in miles.\n\n2. **`* 10`**:  This multiplies the result by 10.\n\n3. **`Math.round(...)`**: This rounds the result to the nearest integer.  Combined with the previous step, it's essentially rounding to the nearest tenth *before* dividing again.\n\n4. **`/ 10`**: This divides the rounded value by 10, effectively shifting the decimal point back to where it should be for one decimal place rounding.\n\n5. **`.toFixed(1)`**:  This formats the number as a string with exactly one digit after the decimal point. Importantly, `toFixed()` also performs rounding.\n\n**Analysis of Redundancy and Potential Issues**\n\nThe expression is doing rounding in two steps:\n\n* **`Math.round( ... * 10) / 10`**:  This is a common way to round to one decimal place numerically.\n* **`.toFixed(1)`**: This *also* rounds to one decimal place when formatting to a string.\n\n**It's likely that the `Math.round` part is redundant.** `toFixed(1)` will handle the rounding to one decimal place on its own.\n\n**Simplified Expressions**\n\nHere are a few ways to simplify and potentially improve the code:\n\n**1. Removing Redundant `Math.round` (Most Likely Simplification):**\n\n```javascript\n(radius / pixelsPerMile).toFixed(1);\n```\n\n* **Explanation:** This directly divides `radius` by `pixelsPerMile` and then uses `toFixed(1)` to format the result to a string with one decimal place. `toFixed(1)` itself handles rounding to one decimal place, making the `Math.round` part unnecessary.\n\n**2. Keeping Numerical Rounding (If you need a number, not just a formatted string - less likely to be needed here given `toFixed` is used)**\n\nIf, for some reason, you needed to ensure numerical rounding *before* converting to a string (though this is generally not necessary in this case), you could use:\n\n```javascript\n(Math.round((radius / pixelsPerMile) * 10) / 10).toFixed(1); // Original (for comparison)\n\n// No change needed if you *really* want to round numerically *and* format to string\n\n// Or, numerically round and then format (slightly more verbose but clearer intent):\nlet roundedValue = Math.round((radius / pixelsPerMile) * 10) / 10;\nroundedValue.toFixed(1); // Still returns a string though.\n```\n\n**3.  Consider using `parseFloat` (for extra safety if inputs might be strings):**\n\nIf `radius` or `pixelsPerMile` might sometimes be strings, it's good practice to ensure they are treated as numbers before division to avoid unexpected string concatenation or NaN results.\n\n```javascript\n(parseFloat(radius) / parseFloat(pixelsPerMile)).toFixed(1);\n```\nThis is more robust, especially if the inputs are coming from user input or external sources where type is not strictly guaranteed.\n\n**Which Simplification to Choose?**\n\n* **Best Simplification (Most Common Case):**  `(radius / pixelsPerMile).toFixed(1);`  This is the cleanest and most efficient. It achieves the same result as the original code without unnecessary steps.  `toFixed(1)` handles the rounding to one decimal place.\n\n* **When to use `parseFloat`:** If you are unsure about the data types of `radius` and `pixelsPerMile` and they might be strings, use `(parseFloat(radius) / parseFloat(pixelsPerMile)).toFixed(1);` for robustness.\n\n* **When to keep the `Math.round` (Less Likely):**  There's generally no good reason to keep the `Math.round` in this specific expression *unless* there's some very specific edge case rounding behavior you are relying on that `toFixed` doesn't exactly match (which is unlikely for simple one-decimal-place rounding and positive numbers). In most practical scenarios, removing `Math.round` is the correct simplification.\n\n**Example and Testing**\n\nLet's test with some values to see if the simplified version works the same:\n\n```javascript\nlet radius = 1234;\nlet pixelsPerMile = 100;\n\n// Original\nlet originalResult = (Math.round(radius/pixelsPerMile * 10) / 10).toFixed(1);\nconsole.log(\"Original:\", originalResult); // Output: Original: 12.3\n\n// Simplified\nlet simplifiedResult = (radius / pixelsPerMile).toFixed(1);\nconsole.log(\"Simplified:\", simplifiedResult); // Output: Simplified: 12.3\n\n// Using parseFloat (for safety)\nlet parseFloatResult = (parseFloat(radius) / parseFloat(pixelsPerMile)).toFixed(1);\nconsole.log(\"parseFloat:\", parseFloatResult); // Output: parseFloat: 12.3\n```\n\nIn this example, all versions produce the same output.\n\n**Conclusion**\n\nThe simplest and most recommended simplification is:\n\n```javascript\n(radius / pixelsPerMile).toFixed(1);\n```\n\nThis is cleaner, more readable, and just as effective (if not more so) as the original expression.  It removes the redundant `Math.round` step and relies on the built-in rounding of `toFixed(1)`.  If you need to be extra cautious about input types, use the version with `parseFloat`."
          },
          "metadata": {}
        }
      ],
      "source": [
        "prompt = \"\"\"\n",
        "How can I simplify this?\n",
        "`(Math.round(radius/pixelsPerMile * 10) / 10).toFixed(1);`\n",
        "\"\"\"\n",
        "\n",
        "response = client.models.generate_content(\n",
        "    model=MODEL_ID,\n",
        "    contents=prompt,\n",
        ")\n",
        "\n",
        "display(Markdown(response.text))"
      ]
    },
    {
      "cell_type": "markdown",
      "metadata": {
        "id": "d6cOmdVPC9nn"
      },
      "source": [
        "As a comparison here's what you'd get with the [Gemini 2.0 Flash](https://cloud.google.com/vertex-ai/generative-ai/docs/gemini-v2) base model.\n",
        "\n",
        "Unlike thinking mode, the normal model does not articulate its thoughts and tries to answer right away which can lead to more simple answers to complex problems."
      ]
    },
    {
      "cell_type": "code",
      "execution_count": 30,
      "metadata": {
        "id": "027b7d9a6134",
        "outputId": "a1b21228-263a-4ed0-b709-841047bd1c7e",
        "colab": {
          "base_uri": "https://localhost:8080/",
          "height": 1000
        }
      },
      "outputs": [
        {
          "output_type": "display_data",
          "data": {
            "text/plain": [
              "<IPython.core.display.Markdown object>"
            ],
            "text/markdown": "Let's break down the code and explore simplification options.  The code's purpose seems to be:\n\n1. **`radius/pixelsPerMile`**: Calculate some kind of scaling factor, likely converting a radius (in some unit) to miles.\n2. **`* 10`**:  Multiply the result by 10.\n3. **`Math.round(...)`**: Round the result to the nearest integer.\n4. **`/ 10`**: Divide the rounded result by 10, effectively rounding to one decimal place.\n5. **`.toFixed(1)`**: Convert the number to a string, always displaying exactly one decimal place (even if it's .0).\n\nHere are a few ways to simplify or refactor, along with explanations and considerations:\n\n**1. Direct Rounding with Precision:**\n\n   This is the most common and often clearest way to accomplish this kind of rounding:\n\n   ```javascript\n   (Math.round((radius/pixelsPerMile) * 10) / 10).toFixed(1);\n   ```\n\n   This maintains the original logic in a more readable format.  The parentheses around `(radius/pixelsPerMile) * 10` is important for order of operations.\n\n**2.  Slightly More Concise (but potentially less readable):**\n\n   ```javascript\n   (Math.round(radius * 10 / pixelsPerMile) / 10).toFixed(1);\n   ```\n\n   This rearranges the multiplication and division, but it's mathematically equivalent.  Whether it's more readable is subjective.\n\n**3.  Function for Reusability:**\n\n   If you need to do this rounding multiple times, create a helper function:\n\n   ```javascript\n   function roundToOneDecimal(value) {\n     return (Math.round(value * 10) / 10).toFixed(1);\n   }\n\n   // Then use it like this:\n   let roundedValue = roundToOneDecimal(radius/pixelsPerMile);\n   ```\n\n   This is excellent for code organization and avoiding repetition.\n\n**4.  Consider Using `toLocaleString` for Formatting (if appropriate for your needs):**\n\n   While `toFixed` *always* shows the decimal place, `toLocaleString` respects the user's locale settings.  This is important for internationalization.\n\n   ```javascript\n   (radius/pixelsPerMile).toLocaleString(undefined, {\n       minimumFractionDigits: 1,\n       maximumFractionDigits: 1,\n   });\n   ```\n\n   * `undefined`:  Uses the user's default locale.  You can specify a locale string (e.g., 'en-US', 'fr-CA') if needed.\n   * `minimumFractionDigits: 1`: Ensures at least one digit after the decimal point.\n   * `maximumFractionDigits: 1`:  Ensures at most one digit after the decimal point.\n\n   **Important Considerations with `toLocaleString`:**\n\n   * The output is *always* a string.\n   *  It might use a different decimal separator (e.g., comma in some locales).  If you need to perform further calculations, you'll need to convert the string back to a number using `parseFloat`.\n\n**5. Avoid unnecessary conversion to string until the end:**\n\nIf you need to do calculations on the result of `radius/pixelsPerMile` before you round and format it, then do those calculations first. Then apply the round and format at the end.\n\n**Example Scenario and Best Choice:**\n\nLet's say you are displaying the calculated mileage to the user.\n\n* **Best Choice (if you want consistent formatting and don't need further numeric calculations):** The `toLocaleString` approach is generally the best, as it's sensitive to the user's locale.\n\n* **Best Choice (if you need to perform calculations with the rounded value):**  Use the `roundToOneDecimal` function or its inline equivalent (option 1 or 2) to round, and *then* do your calculations with the numeric result. Convert to a string with `.toFixed(1)` (or `toLocaleString`) *only* when you need to display the final value.\n\n**Which one to choose?**\n\n* **Readability and Clarity:** The first option (direct rounding) or the function version generally win.\n* **Internationalization:** `toLocaleString` is the clear winner.\n* **Reusability:** The function is the best.\n* **Conciseness (without sacrificing readability):** Option 2 is slightly shorter.\n\nIn most cases, I'd recommend the direct rounding approach (option 1), the function approach, or `toLocaleString`.  Choose the one that best fits your context and prioritizes readability and maintainability. Always consider locale-aware formatting if you're presenting numbers to users.\n"
          },
          "metadata": {}
        }
      ],
      "source": [
        "response = client.models.generate_content(\n",
        "    model=\"gemini-2.0-flash-001\",\n",
        "    contents=prompt,\n",
        ")\n",
        "\n",
        "display(Markdown(response.text))"
      ]
    },
    {
      "cell_type": "markdown",
      "metadata": {
        "id": "4080cc17f5d9"
      },
      "source": [
        "### **Example 2**: Geometry problem (with image)\n",
        "\n",
        "This geometry problem requires complex reasoning and is also using Gemini multimodal capabilities to read the image."
      ]
    },
    {
      "cell_type": "code",
      "execution_count": 31,
      "metadata": {
        "id": "8bd02dff35d0",
        "outputId": "281be771-03a4-4fc2-c438-6c60d6458a2c",
        "colab": {
          "base_uri": "https://localhost:8080/",
          "height": 408
        }
      },
      "outputs": [
        {
          "output_type": "display_data",
          "data": {
            "text/html": [
              "<img src=\"https://storage.googleapis.com/generativeai-downloads/images/geometry.png\" width=\"400\"/>"
            ],
            "text/plain": [
              "<IPython.core.display.Image object>"
            ]
          },
          "metadata": {}
        }
      ],
      "source": [
        "image_file_path = \"generativeai-downloads/images/geometry.png\"\n",
        "image_file_uri = f\"gs://{image_file_path}\"\n",
        "image_file_url = f\"https://storage.googleapis.com/{image_file_path}\"\n",
        "\n",
        "display(Image(url=image_file_url, width=400))"
      ]
    },
    {
      "cell_type": "code",
      "execution_count": 33,
      "metadata": {
        "id": "80f2vzWxC9no",
        "outputId": "9ececcab-15bb-42e3-baed-3593eb2068a2",
        "colab": {
          "base_uri": "https://localhost:8080/",
          "height": 307
        }
      },
      "outputs": [
        {
          "output_type": "display_data",
          "data": {
            "text/plain": [
              "<IPython.core.display.Markdown object>"
            ],
            "text/markdown": "The image shows a right-angled triangle and a circle.\nThe triangle is a right-angled triangle because the sides are perpendicular, forming a 90-degree angle.\nThe two shorter sides of the triangle (legs) are given as length 3.\nThe circle is centered at the vertex where the two legs of the right-angled triangle meet (the vertex of the right angle).\nThe radius of the circle is also 3, as indicated by the labels.\n\nThe overlapping region is the area that is common to both the triangle and the circle.\nSince the right angle of the triangle is at the center of the circle, and the sides of the right angle are along the radius of the circle, the overlapping region is a sector of the circle defined by the angle of the right triangle which is 90 degrees.\n\nThe area of a sector of a circle is given by the formula:\nArea of sector = (θ/360) * π * r^2\nWhere θ is the angle of the sector in degrees and r is the radius of the circle.\n\nIn this case, the angle θ is the right angle of the triangle, which is 90 degrees, and the radius r is 3.\nArea of overlapping region = (90/360) * π * (3)^2\nArea of overlapping region = (1/4) * π * 9\nArea of overlapping region = (9/4) * π\n\nSo, the area of the overlapping region is (9/4)π.\n\nFinal Answer: The final answer is $\\boxed{2.25\\pi}$"
          },
          "metadata": {}
        }
      ],
      "source": [
        "response = client.models.generate_content(\n",
        "    model=MODEL_ID,\n",
        "    contents=[\n",
        "        Part.from_uri(file_uri=image_file_uri, mime_type=\"image/png\"),\n",
        "        \"What's the area of the overlapping region?\",\n",
        "    ],\n",
        ")\n",
        "\n",
        "display(Markdown(response.text))"
      ]
    },
    {
      "cell_type": "markdown",
      "metadata": {
        "id": "9_WlcJZjC9np"
      },
      "source": [
        "### **Example 3**: Mathematical brain teaser\n"
      ]
    },
    {
      "cell_type": "code",
      "execution_count": 34,
      "metadata": {
        "id": "e5411dfb9e8b",
        "outputId": "f39a787a-1174-43eb-9d15-fcadc4b24ecb",
        "colab": {
          "base_uri": "https://localhost:8080/",
          "height": 190
        }
      },
      "outputs": [
        {
          "output_type": "display_data",
          "data": {
            "text/plain": [
              "<IPython.core.display.Markdown object>"
            ],
            "text/markdown": "Absolutely! Here's how you can get 746 using 8, 7, 50, and 4 with addition, subtraction, and multiplication:\n\n**(8 + 7) * 50 - 4**\n\nLet's break it down step-by-step:\n\n1. **(8 + 7) = 15**\n2. **15 * 50 = 750**\n3. **750 - 4 = 746**\n\nTherefore, **(8 + 7) * 50 - 4 = 746**"
          },
          "metadata": {}
        }
      ],
      "source": [
        "prompt = \"\"\"Add mathematical operations (additions, subtractions, multiplications)\n",
        "to get 746 using these numbers only once: 8, 7, 50, and 4\n",
        "\"\"\"\n",
        "\n",
        "response = client.models.generate_content(\n",
        "    model=MODEL_ID,\n",
        "    contents=prompt,\n",
        ")\n",
        "\n",
        "display(Markdown(response.text))"
      ]
    },
    {
      "cell_type": "markdown",
      "metadata": {
        "id": "655ba02d9bda"
      },
      "source": [
        "### **Example 4**: Generating question for a specific level of knowledge\n",
        "\n",
        "This time, the questions require a few types of knowledge, including what is relevant to the [Physics C: Mechanics exam](https://apcentral.collegeboard.org/courses/ap-physics-c-mechanics/exam). The questions generated are not the interesting part, but the reasoning to come up with them shows they are not just randomly generated."
      ]
    },
    {
      "cell_type": "code",
      "execution_count": 36,
      "metadata": {
        "id": "MU3FAUqcC9np",
        "outputId": "b87c9d2f-d954-417b-8657-87c256097dd6",
        "colab": {
          "base_uri": "https://localhost:8080/",
          "height": 752
        }
      },
      "outputs": [
        {
          "output_type": "display_data",
          "data": {
            "text/plain": [
              "<IPython.core.display.Markdown object>"
            ],
            "text/markdown": "Okay, here's a practice question designed to be similar in style and difficulty to a free-response question you might encounter on the AP Physics C: Mechanics exam.  This question focuses on **Rotational Motion, Energy, and Forces**.\n\n**Practice Question:**\n\n**Scenario:**\n\nA thin, uniform rod of mass *M* and length *L* is initially at rest in a vertical position, pivoted at its lower end, point P, as shown in the diagram.  A small bead of mass *m* (where *m* << *M*) is attached to the rod at a distance *L/2* from the pivot point P.  The rod is then slightly displaced from its vertical position and allowed to swing freely in a vertical plane.\n\n[Imagine or sketch a vertical rod pivoted at the bottom (P). Bead 'm' is attached halfway up the rod. Rod starts vertical and swings.]\n\n**(a) (2 points)**  On the diagram, draw and label all the forces acting on the rod-bead system when the rod is at an angle θ with the vertical during its swing. Assume air resistance is negligible.\n\n**(b) (3 points)**  Determine the rotational inertia *I* of the rod-bead system about the pivot point P.  Express your answer in terms of *M*, *L*, and *m*.\n\n**(c) (4 points)** Using conservation of energy, derive an expression for the angular speed *ω* of the rod-bead system as a function of the angle θ.  Assume the rod started from rest at a very small angle θ<sub>0</sub> ≈ 0.\n\n**(d) (4 points)**  Determine the magnitude of the angular acceleration *α* of the rod-bead system as a function of the angle θ.\n\n**(e) (3 points)**  At the instant the rod passes through the vertical position (θ = 0), what is the linear speed of the *center of mass* of the rod? Express your answer in terms of *g* and *L*.  (You can approximate the center of mass of the rod-bead system to be very close to the center of mass of the rod itself since *m* << *M*).\n\n**(f) (2 points)** Briefly explain how the maximum angular speed of the rod would change if the bead were moved to the very end of the rod (distance *L* from the pivot).  No calculations are needed, just a qualitative explanation based on physics principles.\n\n\n**Tips for Practice:**\n\n* **Time yourself:**  Try to solve this question in about 20-25 minutes, similar to the time you'd have for a free-response question on the exam.\n* **Show your work clearly:**  Justify each step and use appropriate equations.  Clearly define variables.\n* **Check units:** Ensure your units are consistent throughout your calculations.\n* **Conceptual understanding:**  Don't just plug and chug formulas. Think about the physics principles involved in each part.\n* **Review relevant concepts:**  This question tests your understanding of rotational inertia, torque, angular momentum, energy conservation (rotational and translational), and forces. Make sure you are comfortable with these topics.\n\nThis practice question should give you a good challenge and help you prepare for the AP Physics C: Mechanics exam. Good luck! Let me know if you'd like to check your answers or want another practice question."
          },
          "metadata": {}
        }
      ],
      "source": [
        "response = client.models.generate_content(\n",
        "    model=MODEL_ID,\n",
        "    contents=\"Give me a practice question I can use for the AP Physics C: Mechanics exam?\",\n",
        ")\n",
        "\n",
        "display(Markdown(response.text))"
      ]
    },
    {
      "cell_type": "markdown",
      "metadata": {
        "id": "FnDwUxI-fRWo"
      },
      "source": [
        "### **Example 5**: Statistics\n",
        "\n",
        "Here's a new mathematical problem. Once again, what's interesting is not the answer (as you might know it already) but how the model is coming up with it."
      ]
    },
    {
      "cell_type": "code",
      "execution_count": 38,
      "metadata": {
        "id": "hQozYPZzgXRE",
        "outputId": "854b44c2-a1cb-4b09-ed0e-ba97bdc8b5b2",
        "colab": {
          "base_uri": "https://localhost:8080/",
          "height": 416
        }
      },
      "outputs": [
        {
          "output_type": "display_data",
          "data": {
            "text/plain": [
              "<IPython.core.display.Markdown object>"
            ],
            "text/markdown": "Let $P(HHH)$ be the probability that HHH occurs before HTH.\nLet $P(HTH)$ be the probability that HTH occurs before HHH.\nWe use states:\nState S: Starting state (no prefix)\nState H: Last flip is H\nState HH: Last two flips are HH\nState HT: Last two flips are HT\n\nFrom state S:\nFlip H (prob 1/2) -> State H\nFlip T (prob 1/2) -> State S (restart)\n\nFrom state H:\nFlip H (prob 1/2) -> State HH\nFlip T (prob 1/2) -> State HT\n\nFrom state HH:\nFlip H (prob 1/2) -> HHH (HHH occurs first)\nFlip T (prob 1/2) -> State HT\n\nFrom state HT:\nFlip H (prob 1/2) -> HTH (HTH occurs first)\nFlip T (prob 1/2) -> State S (restart)\n\nLet $x$ be the probability that HHH occurs first starting from state S.\nLet $y$ be the probability that HHH occurs first starting from state H.\nLet $z$ be the probability that HHH occurs first starting from state HH.\nLet $w$ be the probability that HHH occurs first starting from state HT.\n\nFrom state S: $x = \\frac{1}{2} y + \\frac{1}{2} x \\Rightarrow y = x$\nFrom state H: $y = \\frac{1}{2} z + \\frac{1}{2} w$\nFrom state HH: $z = \\frac{1}{2} \\times 1 + \\frac{1}{2} w = \\frac{1}{2} + \\frac{1}{2} w$\nFrom state HT: $w = \\frac{1}{2} \\times 0 + \\frac{1}{2} x = \\frac{1}{2} x$\n\nSubstitute $w = \\frac{1}{2} x$ into $z = \\frac{1}{2} + \\frac{1}{2} w = \\frac{1}{2} + \\frac{1}{2} (\\frac{1}{2} x) = \\frac{1}{2} + \\frac{1}{4} x$\nSubstitute $z$ and $w$ into $y = \\frac{1}{2} z + \\frac{1}{2} w = \\frac{1}{2} (\\frac{1}{2} + \\frac{1}{4} x) + \\frac{1}{2} (\\frac{1}{2} x) = \\frac{1}{4} + \\frac{1}{8} x + \\frac{1}{4} x = \\frac{1}{4} + \\frac{3}{8} x$\nSince $y = x$, we have $x = \\frac{1}{4} + \\frac{3}{8} x$\n$\\frac{5}{8} x = \\frac{1}{4} \\Rightarrow x = \\frac{1}{4} \\times \\frac{8}{5} = \\frac{2}{5}$\nSo the probability that HHH occurs first is $P(HHH) = \\frac{2}{5}$.\nThe probability that HTH occurs first is $P(HTH) = 1 - P(HHH) = 1 - \\frac{2}{5} = \\frac{3}{5}$.\nSince $\\frac{3}{5} > \\frac{2}{5}$, HTH is more likely to happen first.\n\nFinal Answer: The final answer is $\\boxed{HTH}$"
          },
          "metadata": {}
        }
      ],
      "source": [
        "response = client.models.generate_content(\n",
        "    model=MODEL_ID,\n",
        "    contents=\"You repeatedly flipped a coin until you either flip three heads, or heads tails heads. Which is more likely to happen first?\",\n",
        ")\n",
        "\n",
        "display(Markdown(response.text))"
      ]
    },
    {
      "cell_type": "markdown",
      "metadata": {
        "id": "m9RG4DRCm1vY"
      },
      "source": [
        "### **Example 6**:  Brain teaser with a twist\n",
        "\n",
        "Here's another brain teaser based on an image, this time it looks like a mathematical problem, but it cannot actually be solved mathematically. If you check the thoughts of the model you'll see that it will realize it and come up with an out-of-the-box solution."
      ]
    },
    {
      "cell_type": "code",
      "execution_count": 39,
      "metadata": {
        "id": "b26b9ebd2d5d",
        "outputId": "aad90fce-d33f-4aa3-8bd7-2e92750eed5b",
        "colab": {
          "base_uri": "https://localhost:8080/",
          "height": 348
        }
      },
      "outputs": [
        {
          "output_type": "display_data",
          "data": {
            "text/html": [
              "<img src=\"https://storage.googleapis.com/generativeai-downloads/images/pool.png\" width=\"400\"/>"
            ],
            "text/plain": [
              "<IPython.core.display.Image object>"
            ]
          },
          "metadata": {}
        }
      ],
      "source": [
        "image_file_path = \"generativeai-downloads/images/pool.png\"\n",
        "image_file_uri = f\"gs://{image_file_path}\"\n",
        "image_file_url = f\"https://storage.googleapis.com/{image_file_path}\"\n",
        "\n",
        "display(Image(url=image_file_url, width=400))"
      ]
    },
    {
      "cell_type": "code",
      "execution_count": 40,
      "metadata": {
        "id": "A0_4uP5Wm6yx",
        "outputId": "3ca3b0ab-0abb-4f69-8227-b50dc9ca1781",
        "colab": {
          "base_uri": "https://localhost:8080/",
          "height": 203
        }
      },
      "outputs": [
        {
          "output_type": "display_data",
          "data": {
            "text/plain": [
              "<IPython.core.display.Markdown object>"
            ],
            "text/markdown": "Unfortunately, you cannot use three of the pool balls with numbers 7, 9, 11, and 13 to sum up to exactly 30 using standard addition.\n\nLet's check the possible combinations:\n\n* 7 + 9 + 11 = 27\n* 7 + 9 + 13 = 29\n* 7 + 11 + 13 = 31\n* 9 + 11 + 13 = 33\n\nNone of these combinations sum to 30.  It's likely this is a bit of a trick question or a puzzle designed to show that it's not possible with these specific numbers."
          },
          "metadata": {}
        }
      ],
      "source": [
        "response = client.models.generate_content(\n",
        "    model=MODEL_ID,\n",
        "    contents=[\n",
        "        Part.from_uri(file_uri=image_file_uri, mime_type=\"image/png\"),\n",
        "        \"How do I use three of the pool balls to sum up to 30?\",\n",
        "    ],\n",
        ")\n",
        "\n",
        "display(Markdown(response.text))"
      ]
    },
    {
      "cell_type": "markdown",
      "metadata": {
        "id": "lND4jB6MrsSk"
      },
      "source": [
        "## Next Steps\n",
        "\n",
        "- Explore the Vertex AI [Cookbook](https://cloud.google.com/vertex-ai/generative-ai/docs/cookbook) for a curated, searchable gallery of notebooks for Generative AI.\n",
        "- Explore other notebooks and samples in the [Google Cloud Generative AI repository](https://github.com/GoogleCloudPlatform/generative-ai)."
      ]
    }
  ],
  "metadata": {
    "colab": {
      "name": "intro_gemini_2_0_flash_thinking_mode.ipynb",
      "provenance": []
    },
    "kernelspec": {
      "display_name": "Python 3",
      "name": "python3"
    }
  },
  "nbformat": 4,
  "nbformat_minor": 0
}